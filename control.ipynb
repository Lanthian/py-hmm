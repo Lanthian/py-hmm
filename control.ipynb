{
 "cells": [
  {
   "cell_type": "code",
   "execution_count": 28,
   "metadata": {},
   "outputs": [],
   "source": [
    "# Imports\n",
    "from hmm import HMM1, State"
   ]
  },
  {
   "cell_type": "markdown",
   "metadata": {},
   "source": [
    "### Initial implementation of Hidden Markov Model"
   ]
  },
  {
   "cell_type": "code",
   "execution_count": 29,
   "metadata": {},
   "outputs": [],
   "source": [
    "# Fixed transitions for example\n",
    "t_pb = {}\n",
    "t_pb['T'] = {}\n",
    "t_pb['F'] = {}\n",
    "# to state X from state Y\n",
    "t_pb['T']['T'] = 0.7\n",
    "t_pb['T']['F'] = 0.3\n",
    "t_pb['F']['T'] = 0.3 # 1 - self.t_pb['T']['T']\n",
    "t_pb['F']['F'] = 0.7 # 1 - self.t_pb['T']['F']"
   ]
  },
  {
   "cell_type": "code",
   "execution_count": 30,
   "metadata": {},
   "outputs": [
    {
     "name": "stdout",
     "output_type": "stream",
     "text": [
      "{'T': {'T': 0.7, 'F': 0.3}, 'F': {'T': 0.3, 'F': 0.7}}\n",
      "{'T': 1, 'F': 0}\n",
      "{'T': 0.7, 'F': 0.3}\n",
      "{'T': 0.58, 'F': 0.42}\n",
      "{'T': 0.532, 'F': 0.46799999999999997}\n",
      "{'T': 0.5128, 'F': 0.48719999999999997}\n",
      "{'T': 0.50512, 'F': 0.49488}\n",
      "{'T': 0.502048, 'F': 0.49795199999999995}\n",
      "{'T': 0.5008192, 'F': 0.4991808}\n",
      "{'T': 0.50032768, 'F': 0.49967231999999995}\n",
      "{'T': 0.5001310720000001, 'F': 0.49986892799999993}\n",
      "{'T': 0.5000524288, 'F': 0.4999475712}\n",
      "{'T': 0.50002097152, 'F': 0.49997902848}\n",
      "{'T': 0.500008388608, 'F': 0.499991611392}\n",
      "{'T': 0.5000033554432, 'F': 0.4999966445568}\n",
      "{'T': 0.50000134217728, 'F': 0.4999986578227199}\n",
      "{'T': 0.500000536870912, 'F': 0.4999994631290879}\n",
      "{'T': 0.5000002147483646, 'F': 0.49999978525163513}\n",
      "{'T': 0.5000000858993457, 'F': 0.4999999141006539}\n",
      "{'T': 0.5000000343597382, 'F': 0.4999999656402615}\n",
      "{'T': 0.5000000137438951, 'F': 0.49999998625610453}\n",
      "{'T': 0.500000005497558, 'F': 0.4999999945024417}\n"
     ]
    }
   ],
   "source": [
    "h = HMM1(t_pb)\n",
    "print(h.t_pb)\n",
    "\n",
    "state = {\"T\": 1, \"F\": 0}\n",
    "print(state)\n",
    "# find converging distribution here\n",
    "for _ in range(20):\n",
    "    state = h.transition(state)\n",
    "    print(state)\n"
   ]
  },
  {
   "cell_type": "markdown",
   "metadata": {},
   "source": [
    "### New Approach with State class"
   ]
  },
  {
   "cell_type": "code",
   "execution_count": 31,
   "metadata": {},
   "outputs": [
    {
     "name": "stdout",
     "output_type": "stream",
     "text": [
      "T : [('T', 0.7), ('F', 0.3)]\n",
      "F : [('T', 0.3), ('F', 0.7)]\n"
     ]
    }
   ],
   "source": [
    "# Generate states\n",
    "true = State(\"T\")\n",
    "false = State(\"F\")\n",
    "\n",
    "# Link states -> to self, from state dict\n",
    "true.add({true: 0.7, false: 0.3})\n",
    "false.add({true: 0.3, false: 0.7})\n",
    "\n",
    "\n",
    "# true.tfrom(true)\n",
    "# true.tfrom(false)\n",
    "print(true)\n",
    "print(false)"
   ]
  },
  {
   "cell_type": "code",
   "execution_count": 32,
   "metadata": {},
   "outputs": [
    {
     "data": {
      "text/plain": [
       "True"
      ]
     },
     "execution_count": 32,
     "metadata": {},
     "output_type": "execute_result"
    }
   ],
   "source": [
    "def rough_equal(a: float, b: float, dec: int) -> bool:\n",
    "    \"\"\"Find if two numbers are equal within a decimal point range `dec`.\"\"\"\n",
    "    return round(a, dec) == round(b, dec)\n",
    "\n",
    "# Ensure linking is correct -- account for python inaccuracies with floats\n",
    "rough_equal(true.given(false), 1-false.given(false), 3)\n"
   ]
  },
  {
   "cell_type": "code",
   "execution_count": 33,
   "metadata": {},
   "outputs": [
    {
     "name": "stdout",
     "output_type": "stream",
     "text": [
      "[('T', 1), ('F', 0)]\n",
      "[('T', 0.7), ('F', 0.3)]\n",
      "[('T', 0.58), ('F', 0.42)]\n",
      "[('T', 0.532), ('F', 0.46799999999999997)]\n",
      "[('T', 0.5128), ('F', 0.48719999999999997)]\n",
      "[('T', 0.50512), ('F', 0.49488)]\n",
      "[('T', 0.502048), ('F', 0.49795199999999995)]\n",
      "[('T', 0.5008192), ('F', 0.4991808)]\n",
      "[('T', 0.50032768), ('F', 0.49967231999999995)]\n",
      "[('T', 0.5001310720000001), ('F', 0.49986892799999993)]\n",
      "[('T', 0.5000524288), ('F', 0.4999475712)]\n",
      "[('T', 0.50002097152), ('F', 0.49997902848)]\n",
      "[('T', 0.500008388608), ('F', 0.499991611392)]\n",
      "[('T', 0.5000033554432), ('F', 0.4999966445568)]\n",
      "[('T', 0.50000134217728), ('F', 0.4999986578227199)]\n",
      "[('T', 0.500000536870912), ('F', 0.4999994631290879)]\n",
      "[('T', 0.5000002147483646), ('F', 0.49999978525163513)]\n",
      "[('T', 0.5000000858993457), ('F', 0.4999999141006539)]\n",
      "[('T', 0.5000000343597382), ('F', 0.4999999656402615)]\n",
      "[('T', 0.5000000137438951), ('F', 0.49999998625610453)]\n",
      "[('T', 0.500000005497558), ('F', 0.4999999945024417)]\n"
     ]
    }
   ],
   "source": [
    "# h2 = HMM2({true, false})\n",
    "\n",
    "def state_print(state: dict[State: float]):\n",
    "    print([(x.id, p) for x,p in state.items()])\n",
    "\n",
    "state = {true: 1, false: 0}\n",
    "state_print(state)\n",
    "\n",
    "# find converging distribution here\n",
    "for _ in range(20):\n",
    "    new = {}\n",
    "    for s in state.keys():\n",
    "        new[s] = s.total(state)\n",
    "    state = new\n",
    "    state_print(state)\n"
   ]
  }
 ],
 "metadata": {
  "kernelspec": {
   "display_name": "Python 3",
   "language": "python",
   "name": "python3"
  },
  "language_info": {
   "codemirror_mode": {
    "name": "ipython",
    "version": 3
   },
   "file_extension": ".py",
   "mimetype": "text/x-python",
   "name": "python",
   "nbconvert_exporter": "python",
   "pygments_lexer": "ipython3",
   "version": "3.11.3"
  }
 },
 "nbformat": 4,
 "nbformat_minor": 2
}
